{
 "cells": [
  {
   "cell_type": "markdown",
   "id": "4d46d68e-f015-4059-92e0-a96e793c0ad1",
   "metadata": {},
   "source": [
    "# Secret Santa"
   ]
  },
  {
   "cell_type": "code",
   "execution_count": 1,
   "id": "29e5cde2-9eea-4c32-9cbe-3bf9506b1eac",
   "metadata": {},
   "outputs": [],
   "source": [
    "from random import shuffle\n",
    "import collections"
   ]
  },
  {
   "cell_type": "code",
   "execution_count": 2,
   "id": "a8ab0e13-60be-45d6-8199-5a076ca12339",
   "metadata": {},
   "outputs": [],
   "source": [
    "# We are using collections as we want to use the rotate function\n",
    "groupA = collections.deque([\"A\",\"B\",\"C\"])\n",
    "groupB = collections.deque([\"D\",\"E\",\"F\"])"
   ]
  },
  {
   "cell_type": "code",
   "execution_count": 3,
   "id": "0d780631-8f4d-4754-94e8-1dc41d3b9f4f",
   "metadata": {},
   "outputs": [],
   "source": [
    "# We have two groups of equal length\n",
    "# A pair is always between members of the two different groups\n",
    "assert len(groupA) == len(groupB)\n",
    "shuffle(groupA)\n",
    "shuffle(groupB)"
   ]
  },
  {
   "cell_type": "code",
   "execution_count": 4,
   "id": "a77785d6-ed4a-4546-9df0-1149a211bbac",
   "metadata": {},
   "outputs": [
    {
     "name": "stdout",
     "output_type": "stream",
     "text": [
      "A E\n",
      "C D\n",
      "B F\n"
     ]
    }
   ],
   "source": [
    "# We assign each member of group A a member of group B\n",
    "for x,y in zip(groupA,groupB):\n",
    "    print(x,y)"
   ]
  },
  {
   "cell_type": "code",
   "execution_count": 5,
   "id": "45e110e0-ca55-4e19-9904-8e566c80923a",
   "metadata": {},
   "outputs": [
    {
     "name": "stdout",
     "output_type": "stream",
     "text": [
      "E C\n",
      "D B\n",
      "F A\n"
     ]
    }
   ],
   "source": [
    "# It would be too easy to use the same couples in the different \n",
    "# direction. However, that would immediately reveal who \n",
    "# has to buy your gift. Hence we rotate the member of group A\n",
    "# You can rotate by any length in anay direction\n",
    "\n",
    "# rotate is not(!) returning a new list\n",
    "groupA.rotate(-1)\n",
    "\n",
    "for x,y in zip(groupB, groupA):\n",
    "    print(x,y)"
   ]
  },
  {
   "cell_type": "code",
   "execution_count": null,
   "id": "a7a9e42a-9465-4042-8682-c79ae7c36a84",
   "metadata": {},
   "outputs": [],
   "source": []
  }
 ],
 "metadata": {
  "kernelspec": {
   "display_name": "Python 3 (ipykernel)",
   "language": "python",
   "name": "python3"
  },
  "language_info": {
   "codemirror_mode": {
    "name": "ipython",
    "version": 3
   },
   "file_extension": ".py",
   "mimetype": "text/x-python",
   "name": "python",
   "nbconvert_exporter": "python",
   "pygments_lexer": "ipython3",
   "version": "3.10.9"
  }
 },
 "nbformat": 4,
 "nbformat_minor": 5
}
